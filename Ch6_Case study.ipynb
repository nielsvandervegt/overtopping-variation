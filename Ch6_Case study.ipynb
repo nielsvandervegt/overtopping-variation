{
 "cells": [
  {
   "cell_type": "code",
   "execution_count": 17,
   "id": "b9e180bf-3e5c-4f82-8cbf-b803e64aef9b",
   "metadata": {},
   "outputs": [],
   "source": [
    "import matplotlib.pyplot as plt\n",
    "import numpy as np\n",
    "import pyvinecopulib as pv\n",
    "\n",
    "from math import gamma\n",
    "from scipy.stats import norm\n",
    "from pydra_core import Profile"
   ]
  },
  {
   "cell_type": "markdown",
   "id": "7a75c954-6af2-49b5-8117-6ad6df165e79",
   "metadata": {},
   "source": [
    "<h3>Determine expected damage without variation and interdependency</h3>"
   ]
  },
  {
   "cell_type": "code",
   "execution_count": 18,
   "id": "346b75dc-33e6-4626-8b3d-1e3e3e8a64b0",
   "metadata": {},
   "outputs": [
    {
     "name": "stdout",
     "output_type": "stream",
     "text": [
      "Expected damage: 1.566 m2/s2\n",
      "Check sum probabilities: 0.9926790949126405\n"
     ]
    }
   ],
   "source": [
    "# Hydraulic loading\n",
    "Hs = 1.0\n",
    "s0p = 0.05\n",
    "Rc = 2.0\n",
    "\n",
    "# Dike\n",
    "cota_waterside = 3.0\n",
    "Bc = 5.0\n",
    "cota_landward = 3.0\n",
    "length_landward = 12\n",
    "uc = 4.3\n",
    "\n",
    "# Calculate Lmm10, Tspec, and Tm\n",
    "Lmm10 = Hs / s0p\n",
    "Tspec = np.sqrt(Lmm10 * 2 * np.pi / 9.81)\n",
    "Tm = Tspec * (1.1 / 1.2)\n",
    "\n",
    "# Create profile\n",
    "prof = Profile()\n",
    "prof.set_dike_geometry([-10 * cota_waterside, Rc * cota_waterside], [-10, Rc])\n",
    "prof.set_dike_crest_level(Rc)\n",
    "prof.set_dike_orientation(0)\n",
    "\n",
    "# Calculate Ru2p and qavg (TAW (2002))\n",
    "h = 0\n",
    "Ru2p = prof.calculate_runup(h, Hs, Tspec, 0) - h\n",
    "qavg = prof.calculate_overtopping(h, Hs, Tspec, 0)\n",
    "\n",
    "# Calculate Pov (EurOtop (2018))\n",
    "Pov = np.exp(-1 * (np.sqrt(- np.log(0.02)) * Rc / Ru2p)**2)\n",
    "\n",
    "# Calculate individual overtopping volume distribution (Hughes et al. (2012), Zanuttigh et al. (2013))\n",
    "b = 0.73 + 55 * ((qavg / 1000) / (9.81 * Hs * Tspec)) ** 0.8\n",
    "a = (1 / (gamma(1 + 1 / b))) * (qavg * Tm / Pov)\n",
    "vmax = a * (np.log(50000))**(1/b)\n",
    "v = np.arange(0.0001, vmax, 0.0001)\n",
    "p_v = (b / a) * (v / a)**(b-1) * np.exp(-(v / a)**b) * (v[1] - v[0])\n",
    "\n",
    "# Calculate upeak and hpeak at waterside crest (Hughes (2017))\n",
    "upeak_wsc = 27.67 * np.sqrt(v * (1 / cota_waterside)) / Tspec\n",
    "hpeak_wsc = 0.324 * np.sqrt(v)\n",
    "\n",
    "# Use van Bergeijk et al. (2019) to translate along crest\n",
    "Q = upeak_wsc * hpeak_wsc\n",
    "f = 0.01\n",
    "upeak_lsc = 1 / ((f * Bc / (2 * Q)) + (1 / upeak_wsc))\n",
    "hpeak_lsc = Q / upeak_lsc\n",
    "\n",
    "# Use van Bergeijk et al. (2019) to translate along landward slope\n",
    "alpha = (9.81 * np.sin(np.arctan(1 / cota_landward)))**(1/3)\n",
    "beta = (f / (2 * Q))**(1/3)\n",
    "mu = upeak_lsc - alpha / beta\n",
    "u_toe = alpha / beta + mu * np.exp(-3 * alpha * beta**2 * length_landward)\n",
    "\n",
    "# Calculate D using COM (van der Meer et al. (2011))\n",
    "D = np.maximum(u_toe**2 - uc**2, 0)\n",
    "\n",
    "# Numerical integration to obtain expected D\n",
    "ED = np.sum(p_v * D)\n",
    "print(f\"Expected damage: {ED:.3f} m2/s2\")\n",
    "print(\"Check sum probabilities:\", np.sum(p_v))"
   ]
  },
  {
   "cell_type": "markdown",
   "id": "be8bb28c-b05f-4a5e-bef8-7bf8c0a75499",
   "metadata": {},
   "source": [
    "<h3>Determine expected damage with variation and interdependency</h3>\n",
    "\n",
    "Use Monte Carlo to estimate the expected damage with variation and interdependency."
   ]
  },
  {
   "cell_type": "code",
   "execution_count": 19,
   "id": "2d96c28a-ce8f-4972-974a-4e926fe18407",
   "metadata": {},
   "outputs": [
    {
     "data": {
      "image/png": "[encoded data removed]",
      "text/plain": [
       "<Figure size 640x480 with 1 Axes>"
      ]
     },
     "metadata": {},
     "output_type": "display_data"
    },
    {
     "name": "stdout",
     "output_type": "stream",
     "text": [
      "Expected damage with variation and interdependency: 1.653 m2/s2\n"
     ]
    }
   ],
   "source": [
    "# Parameters\n",
    "sigma_u = 0.219 if cota_waterside==3 else 0.129\n",
    "sigma_h = 0.196\n",
    "copula_nu = 9.361\n",
    "copula_rho = -0.497\n",
    "n_samples = 100_000\n",
    "\n",
    "# Create copula\n",
    "cop = pv.Bicop.from_family(pv.BicopFamily.student, parameters=np.array([[copula_rho], [copula_nu]]))\n",
    "\n",
    "# Perform Monte Carlo\n",
    "cu, ch = cop.simulate(n_samples).T\n",
    "Ru = norm(0, sigma_u).ppf(cu)\n",
    "Rh = norm(0, sigma_h).ppf(ch)\n",
    "\n",
    "# Calculate for each sample the expected D\n",
    "ED = []\n",
    "for _Ru, _Rh in zip(Ru, Rh):\n",
    "\n",
    "    # Calculate upeak and hpeak at waterside crest (Hughes (2017))\n",
    "    upeak_wsc = 27.67 * np.sqrt(v * (1 / cota_waterside)) / Tspec * np.exp(_Ru)\n",
    "    hpeak_wsc = 0.324 * np.sqrt(v) * np.exp(_Rh)\n",
    "    \n",
    "    # Use van Bergeijk et al. (2019) to translate along crest\n",
    "    Q = upeak_wsc * hpeak_wsc\n",
    "    f = 0.01\n",
    "    upeak_lsc = 1 / ((f * Bc / (2 * Q)) + (1 / upeak_wsc))\n",
    "    hpeak_lsc = Q / upeak_lsc\n",
    "    \n",
    "    # Use van Bergeijk et al. (2019) to translate along landward slope\n",
    "    alpha = (9.81 * np.sin(np.arctan(1 / cota_landward)))**(1/3)\n",
    "    beta = (f / (2 * Q))**(1/3)\n",
    "    mu = upeak_lsc - alpha / beta\n",
    "    u_toe = alpha / beta + mu * np.exp(-3 * alpha * beta**2 * length_landward)\n",
    "\n",
    "    # Calculate D using COM (van der Meer et al. (2011))\n",
    "    D = np.maximum(u_toe**2 - uc**2, 0)\n",
    "    ED.append(np.sum(p_v * D))\n",
    "\n",
    "# Estimate expected D\n",
    "plt.hist(ED, bins=50, density=True)\n",
    "plt.axvline(np.mean(ED), color=\"black\", ls=\":\", label=\"Mean\")\n",
    "plt.xlabel(r\"$E(D)$ [m2/s2]\")\n",
    "plt.ylabel(\"Density [-]\")\n",
    "plt.legend()\n",
    "plt.show()\n",
    "\n",
    "print(f\"Expected damage with variation and interdependency: {np.mean(ED):.3f} m2/s2\")"
   ]
  },
  {
   "cell_type": "code",
   "execution_count": null,
   "id": "2fa1b220-5255-4909-8ef0-8879caff80e0",
   "metadata": {},
   "outputs": [],
   "source": []
  }
 ],
 "metadata": {
  "kernelspec": {
   "display_name": "Python 3 (ipykernel)",
   "language": "python",
   "name": "python3"
  },
  "language_info": {
   "codemirror_mode": {
    "name": "ipython",
    "version": 3
   },
   "file_extension": ".py",
   "mimetype": "text/x-python",
   "name": "python",
   "nbconvert_exporter": "python",
   "pygments_lexer": "ipython3",
   "version": "3.12.7"
  }
 },
 "nbformat": 4,
 "nbformat_minor": 5
}
